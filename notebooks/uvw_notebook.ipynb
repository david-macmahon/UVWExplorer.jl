{
 "cells": [
  {
   "attachments": {},
   "cell_type": "markdown",
   "metadata": {},
   "source": [
    "# UVW Explorations\n",
    "\n",
    "A baseline vector is the vector from one antenna position to another antenna\n",
    "position.  Baseline vectors and antenna positions can be represented in many\n",
    "different coordinate frames.  For Earth based antennas, the antenna positions\n",
    "can be represented in one of several terrestrial frames.  The difference between\n",
    "two such antenna positions is a baseline vector in the same terrestrial frame.\n",
    "To make maps of the sky from visibilities associated with baselines, the\n",
    "baseline vectors must be represented in a celestial frame, often represented as\n",
    "a *UVW frame*, which is a right handed coordinate frame with U pointing\n",
    "eastward, V pointing northward, and W pointing to the phase center of the\n",
    "observation.  This notebook explores the conversion from antenna positions in a\n",
    "terrestrial frame to baseline vectors in a UVW frame.\n",
    "\n",
    "## Background\n",
    "\n",
    "One commonly used terrestrial frame is the International Terrestrial Reference\n",
    "Frame (ITRF).  This is a right-handed XYZ frame with the origin at the center of\n",
    "Earth, the Z axis passing through the north pole, the X axis passing through the\n",
    "prime meridian, and the Y axis passing through longitude 90 degrees East.\n",
    "Antenna positions represented in this frame are over 6 million meters from the\n",
    "origin, which makes comparing antenna positions non-intuitive for humans, so\n",
    "often the observatory's reference position will be subtracted from the ITRF\n",
    "antenna positions.  This leads to a topocentric XYZ frame.  Conversion between\n",
    "ITRF coordinates and the more familiar latitude, longitude, altitude (LLA)\n",
    "representation can be done for a given ellipsoid model of Earth.  These days the\n",
    "WGS84 ellipsoid is most commonly used.\n",
    "\n",
    "Celestial positions are referred to the International Celestial Reference System\n",
    "(ICRS) or the somewhat older \"J2000\" reference system.  These reference systems\n",
    "are so close to each other (there is only a ~23 milliarcsecond rotation between\n",
    "them) that they can often be used interchangeably.  Observing a celestial\n",
    "position from a terrestrial position at a given time involves not only the\n",
    "complex relationship between the celestial reference system and the terrestrial\n",
    "reference system, but also the diurnal aberration seen by the observer and\n",
    "various atmospheric effects such as refraction.  One useful reference for this\n",
    "topic is the [SOFA Tools for Earth\n",
    "Attitude](http://iausofa.org/2021_0512_C/sofa/sofa_pn_c.pdf) cookbook.\n",
    "\n",
    "Calculation of baseline vectors in a UVW frame requires these inputs:\n",
    "\n",
    "* Right ascension of phase center\n",
    "* Declination of phase center\n",
    "* Date and time of observation\n",
    "* Terrestrial location of the observatory's reference location\n",
    "* Antenna positions\n",
    "* List of antenna pairs for which to compute baseline vectors\n",
    "* Earth orientation parameters (EOP) from the International Earth Rotation\n",
    "  Service (IERS) for the date of the observation.  The IERS publishes EOP values\n",
    "  with a 1 day granularity, but often the time of the observation is used to\n",
    "  interpolate between two (or more) daily values.\n",
    "\n",
    "## Setup\n",
    "\n",
    "We will use values from the header of an example UVH5 file included alongside\n",
    "this notebook.  UVH5 is an HDF5 based file format for storing interferometric\n",
    "data and associated metadata.  It is described in the [UVH5\n",
    "Memo](https://github.com/RadioAstronomySoftwareGroup/pyuvdata/blob/main/docs/references/uvh5_memo.pdf).\n",
    "To reduce the size of the example file, the visibility data have been removed.\n",
    "\n",
    "First we will setup the Julia environment for the `UVWExplorer` package that\n",
    "includes this notebook.  Because the `PyCASA` project is not (yet) registered\n",
    "with the main Julia package registry we have to add it explicitly before\n",
    "instantiating the rest of the environment.  This may take up a couple of minutes\n",
    "the first time you run this notebook as it will download and precompile packages\n",
    "from the Julia package registry.  Subsequent runs will take less time."
   ]
  },
  {
   "cell_type": "code",
   "execution_count": 5,
   "metadata": {},
   "outputs": [],
   "source": [
    "# Setup the environment\n",
    "import Pkg\n",
    "redirect_stderr(devnull) do\n",
    "    Pkg.activate(dirname(@__DIR__))\n",
    "    Pkg.add(url=\"https://github.com/david-macmahon/PyCASA.jl\")\n",
    "    Pkg.instantiate()\n",
    "end\n",
    "\n",
    "# Pull in UVWExplorer package\n",
    "using UVWExplorer"
   ]
  },
  {
   "attachments": {},
   "cell_type": "markdown",
   "metadata": {},
   "source": [
    "## UVH5 metadata\n",
    "\n",
    "Now we can use `UVWExplorer`'s `uvh5info` function to load relevant metadata about the\n",
    "observation from the UVH5 file.  Here are a few things to note about the UVH5\n",
    "metadata:\n",
    "\n",
    "* Right ascension and declination are in radians\n",
    "* Date/time is given as a Julian date\n",
    "* Observatory position is given as geodetic latitude, longitude, and altitude\n",
    "  with respect to the WGS84 ellipsoid.  Latitude and longitude are given in\n",
    "  degrees, altitude in meters.  The coordinates shown below indicate that this\n",
    "  file is from the Very Large Array (VLA) in New Mexico, USA."
   ]
  },
  {
   "cell_type": "code",
   "execution_count": 6,
   "metadata": {},
   "outputs": [
    {
     "name": "stdout",
     "output_type": "stream",
     "text": [
      "o.ra = 3.2686162621088966\n",
      "o.dec = 0.03582094364245917\n",
      "o.jd = 2.4598932634780095e6\n",
      "o.obslla = (lat = 34.07861111111111, lon = -107.61777777777777, alt = 2124.0)\n"
     ]
    }
   ],
   "source": [
    "o = uvh5info(joinpath(dirname(@__DIR__), \"data/example_without_visdata.uvh5\"))\n",
    "@show o.ra o.dec o.jd o.obslla;"
   ]
  },
  {
   "attachments": {},
   "cell_type": "markdown",
   "metadata": {},
   "source": [
    "* Antenna positions are given in meters in a topocentric XYZ frame (i.e.\n",
    "  relative to observatory position).  It is convenient to work with antenna\n",
    "  positions in a `3xN` Matrix that can be left multiplied by a `3x3` rotation\n",
    "  matrix."
   ]
  },
  {
   "cell_type": "code",
   "execution_count": 7,
   "metadata": {},
   "outputs": [
    {
     "data": {
      "text/plain": [
       "3×27 Matrix{Float64}:\n",
       "  75.3561  -1407.46    -628.666   -39.8687   …   22.795   233.805   123.426\n",
       " 489.407     -77.4865   -35.3721   -2.84079     148.519  -148.405   801.639\n",
       " 721.544    -735.191   -327.651   -20.2104      220.001  -102.917  1182.12"
      ]
     },
     "metadata": {},
     "output_type": "display_data"
    }
   ],
   "source": [
    "o.antxyz"
   ]
  },
  {
   "attachments": {},
   "cell_type": "markdown",
   "metadata": {},
   "source": [
    "* Baselines are specified by a Vector (i.e. list) of antenna index pairs.\n",
    "Strictly speaking, UVH5 specified baselines by antenna numbers, but `uvh5info`\n",
    "uses additional UVH5 metadata to convert the antenna numbers to antenna indexes\n",
    "(i.e. column indexes into the antenna positions Matrix).  Only 13 of the VLA's\n",
    "27 antennas were used in this observation and `uvh5info` excludes\n",
    "autocorrelations.  This is why only 78 baselines (`12 * 13 / 2 == 78`) are\n",
    "present."
   ]
  },
  {
   "cell_type": "code",
   "execution_count": 8,
   "metadata": {},
   "outputs": [
    {
     "data": {
      "text/plain": [
       "78-element Vector{Tuple{Int64, Int64}}:\n",
       " (22, 21)\n",
       " (22, 20)\n",
       " (22, 19)\n",
       " (22, 18)\n",
       " (22, 17)\n",
       " (22, 14)\n",
       " (22, 5)\n",
       " (22, 4)\n",
       " (22, 13)\n",
       " (22, 12)\n",
       " ⋮\n",
       " (4, 12)\n",
       " (4, 11)\n",
       " (4, 7)\n",
       " (13, 12)\n",
       " (13, 11)\n",
       " (13, 7)\n",
       " (12, 11)\n",
       " (12, 7)\n",
       " (11, 7)"
      ]
     },
     "metadata": {},
     "output_type": "display_data"
    }
   ],
   "source": [
    "o.bls"
   ]
  },
  {
   "attachments": {},
   "cell_type": "markdown",
   "metadata": {},
   "source": [
    "## First look at UVW vectors\n",
    "\n",
    "UVH5 files contain precomputed UVW values for each baseline at each time sample\n",
    "(aka *integration*).  `uvh5info` returns info only for the first time sample.\n",
    "Here is a sneak peek at these precomputed UVW values:"
   ]
  },
  {
   "cell_type": "code",
   "execution_count": 9,
   "metadata": {},
   "outputs": [
    {
     "data": {
      "text/plain": [
       "3×78 Matrix{Float64}:\n",
       "   126.631  1375.06    1612.23    645.305  …  -131.353  152.978    284.332\n",
       "  2085.22    369.18     280.199   541.572      319.919  -96.4425  -416.362\n",
       " -1569.8    -999.815  -1061.35   -733.635     -160.966  -11.7981   149.168"
      ]
     },
     "metadata": {},
     "output_type": "display_data"
    }
   ],
   "source": [
    "o.uvws"
   ]
  },
  {
   "attachments": {},
   "cell_type": "markdown",
   "metadata": {},
   "source": [
    "## Calculating UVW values\n",
    "\n",
    "Calculating UVW is essentially expressing baseline vectors in a UVW frame.\n",
    "A UVW frame has W pointing in the direction of the phase center (aka\n",
    "*source*).  Relating the antenna positions to the \"direction of the phase\n",
    "center\" involves a number of complicating factors depending on which frame is\n",
    "used to calculate the direction.\n",
    "\n",
    "* Proper motion (can be ignored for extragalactic radio sources)\n",
    "* Parallax (can be ignored for extragalactic radio sources)\n",
    "* Light deflection (or radio deflection) due to gravity of solar system bodies\n",
    "  (primarily the Sun and Jupiter)\n",
    "* Annual aberration due to Earth's orbital motion around the Sun\n",
    "* Precession and nutation\n",
    "* Earth orientation parameters (EOP)\n",
    "* Diurnal aberration due to Earth rotation\n",
    "* Diurnal parallax (can be ignored for extragalactic sources)\n",
    "* Atmospheric refraction\n",
    "\n",
    "Software that computes the phase center direction in a given frame, such as the\n",
    "`atco13` function from the Essential Routines for Fundamental Astronomy (ERFA),\n",
    "takes parameters that either specify the relevant values directly (e.g proper\n",
    "motion) or allows computation of these values from related models (e.g.\n",
    "refraction can be computed from atmospheric pressure, ambient temperature,\n",
    "relative humidity, and wavelength).\n",
    "\n",
    "For UVW calculations, we assume zero proper motion, zero parallax, and\n",
    "zero refraction.  The first two are generally safe to ignore.  Refraction is a\n",
    "bit trickier and will be discussed more later, but for now we will ignore it.\n",
    "\n",
    "Of the remaining complicating factors, light deflection and aberration can be\n",
    "derived from phase center direction and observatory position and velocity.\n",
    "Observatory velocity can be derived from observatory position and time of\n",
    "observation.  Earth orientation parameters cannot be modeled so they must be\n",
    "provided explicitly if the software has no automated internal means of obtaining\n",
    "this information.  The EOP parameters that are relevant here are `UT1-UTC`\n",
    "(aka `DUT1`) given in milliseconds (of time) by IERS and the polar motion values\n",
    "`xp` and `yp` given in arcseconds by IERS, but be sure to double check the units\n",
    "returned from EOP software APIs and bew sure to convert as necessary.  For\n",
    "example, most return `UT1-UTC` in seconds rather than the milliseconds.\n",
    "\n",
    "This leads to the following generalized function for computing UVW values from\n",
    "RA/Dec and other observational metadata:\n",
    "\n",
    "```julia\n",
    "radec2uvws(ra, dec, jd, obslla, antxyz, bls; dut1=0, xp=0, yp=0)\n",
    "```\n",
    "\n",
    "The parameters and there units are described in the following table:\n",
    "\n",
    "| Parameter | Description            | Units             |\n",
    "|----------:|:-----------------------|:------------------|\n",
    "|        ra | Right ascention (ICRS) | radians           |\n",
    "|       dec | Declination (ICRS)     | radians           |\n",
    "|     jdutc | Julian Date (UTC)      | days              |\n",
    "|    obslla | Observatory location   | LLA (see below)   |\n",
    "|    antxyz | Antenna positions      | meters (ITRF/XYZ) |\n",
    "|       bls | Baseline list          | antenna indices   |\n",
    "|      dut1 | UTC-UT1                | seconds           |\n",
    "|        xp | Polar motion X         | arcsec            |\n",
    "|        yp | Polar motion Y         | arcsec            |\n",
    "\n",
    "The `obslla` parameter can be any object that has `lat`, `lon`, and `alt`\n",
    "fields, with `lat` and `lon` in degrees and `alt` in meters.  Our `o.obslla`\n",
    "that we saw above can be used for this parameter.\n",
    "\n",
    "The `antxyz` parameter is a 3xN matrix of antenna positions in meters in either\n",
    "ITRF or topocentric XYZ frames.\n",
    "\n",
    "The `bls` parameter is a vector of antenna index tuples as seen above.  This\n",
    "allows calculation of a subset of all possible baselines.\n",
    "\n",
    "The `UVWExplorer` package for Julia provides several modules that implement the\n",
    "`radec2uvws` function using different techniques to compute UVW.  The modules\n",
    "are:\n",
    "\n",
    "* `TopoUVW` - Computes UVWs from topocentric/observed frame\n",
    "* `GCRSUVW` - Computes UVWs from the Geocentric Celestial Reference System (GCRS)\n",
    "* `CASAUVW` - Computes UVWs using CASA's `measures` class\n",
    "* `PyUVW` - Computes UVWs from CGRS using `astropy`\n",
    "\n",
    "The first two modules use functions from `ERFA.jl` (a Julia interface to\n",
    "`libefra`) to implement UVW calculations.  The latter two use `PyCall.jl` to\n",
    "call into Python implementations that perform the UVW calculations and return\n",
    "the results.  Only the first one, `TopoUVW`, computes UVW from the\n",
    "topocentric/observed frame.  The remaining ones compute UVW from the geocentric\n",
    "frame (i.e. the GCRS). \n",
    "\n",
    "Let's see what they produce given the same metadata from the UVH5 file!"
   ]
  },
  {
   "cell_type": "code",
   "execution_count": 10,
   "metadata": {},
   "outputs": [
    {
     "data": {
      "text/plain": [
       "3×78 Matrix{Float64}:\n",
       "   126.631  1375.06    1612.23    645.305  …  -131.353  152.978    284.332\n",
       "  2085.22    369.18     280.199   541.572      319.919  -96.4425  -416.362\n",
       " -1569.8    -999.815  -1061.35   -733.635     -160.966  -11.7981   149.168"
      ]
     },
     "metadata": {},
     "output_type": "display_data"
    }
   ],
   "source": [
    "topouvws = TopoUVW.radec2uvws(o.ra, o.dec, o.jd, o.obslla, o.antxyz, o.bls)"
   ]
  },
  {
   "cell_type": "code",
   "execution_count": 11,
   "metadata": {},
   "outputs": [
    {
     "data": {
      "text/plain": [
       "3×78 Matrix{Float64}:\n",
       "   127.156  1375.15    1612.3     645.441  …  -131.273  152.954    284.227\n",
       "  2085.19    368.834    279.793   541.41       319.952  -96.4811  -416.433\n",
       " -1569.8    -999.815  -1061.35   -733.635     -160.966  -11.7981   149.168"
      ]
     },
     "metadata": {},
     "output_type": "display_data"
    }
   ],
   "source": [
    "gcrsuvws = GCRSUVW.radec2uvws(o.ra, o.dec, o.jd, o.obslla, o.antxyz, o.bls)"
   ]
  },
  {
   "cell_type": "code",
   "execution_count": 12,
   "metadata": {},
   "outputs": [
    {
     "data": {
      "text/plain": [
       "3×78 Matrix{Float64}:\n",
       "   127.161  1375.15    1612.31    645.442  …  -131.272  152.954    284.226\n",
       "  2085.19    368.834    279.792   541.41       319.953  -96.4813  -416.434\n",
       " -1569.8    -999.814  -1061.35   -733.634     -160.966  -11.7981   149.168"
      ]
     },
     "metadata": {},
     "output_type": "display_data"
    }
   ],
   "source": [
    "casauvws = CASAUVW.radec2uvws(o.ra, o.dec, o.jd, o.obslla, o.antxyz, o.bls)"
   ]
  },
  {
   "cell_type": "code",
   "execution_count": 13,
   "metadata": {},
   "outputs": [
    {
     "data": {
      "text/plain": [
       "3×78 Matrix{Float64}:\n",
       "   127.156  1375.15    1612.31    645.441  …  -131.273  152.954    284.227\n",
       "  2085.19    368.836    279.795   541.411      319.952  -96.4809  -416.433\n",
       " -1569.8    -999.813  -1061.35   -733.634     -160.966  -11.7979   149.168"
      ]
     },
     "metadata": {},
     "output_type": "display_data"
    }
   ],
   "source": [
    "pyuvws = PyUVW.radec2uvws(o.ra, o.dec, o.jd, o.obslla, o.antxyz, o.bls)"
   ]
  },
  {
   "attachments": {},
   "cell_type": "markdown",
   "metadata": {},
   "source": [
    "All four produce different answers!  How can we determine which is \"best\"?  Let's compare..."
   ]
  },
  {
   "attachments": {},
   "cell_type": "markdown",
   "metadata": {},
   "source": [
    "## Comparing UVW values\n",
    "\n",
    "To compare UVW values, we can write a simple function that computes\n",
    "the average of the magnitude of UVW differences between corresponding baseline\n",
    "vectors (i.e. columns) from two UVW matrices.  We can use this average UVW\n",
    "difference as a way to quantify how similar two UVW matrices are."
   ]
  },
  {
   "cell_type": "code",
   "execution_count": 14,
   "metadata": {},
   "outputs": [
    {
     "data": {
      "text/plain": [
       "4-element Vector{Pair{Module, Float64}}:\n",
       " UVWExplorer.TopoUVW => 4.318634540521559e-13\n",
       " UVWExplorer.GCRSUVW => 0.24365334568963015\n",
       " UVWExplorer.CASAUVW => 0.24494298470440581\n",
       "   UVWExplorer.PyUVW => 0.2426047289735159"
      ]
     },
     "metadata": {},
     "output_type": "display_data"
    }
   ],
   "source": [
    "function avguvwdiff(uvw1, uvw2)\n",
    "    mapreduce(v->hypot(v...), +, eachcol(uvw1-uvw2)) / size(uvw1,2)\n",
    "end\n",
    "\n",
    "[\n",
    "    TopoUVW => avguvwdiff(topouvws, o.uvws),\n",
    "    GCRSUVW => avguvwdiff(gcrsuvws, o.uvws),\n",
    "    CASAUVW => avguvwdiff(casauvws, o.uvws),\n",
    "    PyUVW => avguvwdiff(pyuvws, o.uvws)\n",
    "]"
   ]
  },
  {
   "attachments": {},
   "cell_type": "markdown",
   "metadata": {},
   "source": [
    "The `TopoUVW` calculation produced results that are virtually identical to the\n",
    "UVW values from the UVH5 file.  This shows that the UVWs in the UVH5 file were\n",
    "produced not just using the same approach as in `TopoUVW`, but also with\n",
    "`TopoUVW`'s default values of zero for the Earth orientation parameters `dut1`,\n",
    "`xp`, and `yp`.  While the three GCRS-based computations produced non-identical\n",
    "values, they are far closer to each other than to the topocentric-based values.\n",
    "\n",
    "This shows that there is a fairly significant distinction between the\n",
    "topocentric and GCRS approaches, but it doesn't really help up determine which\n",
    "approach is better.  For that we will have to understand more about each\n",
    "approach."
   ]
  },
  {
   "attachments": {},
   "cell_type": "markdown",
   "metadata": {},
   "source": [
    "### The topocentric approach\n",
    "\n",
    "One way to think about the direction of the phase center is the so called\n",
    "\"observed direction\".  This is literally the direction one would \"look\" from the\n",
    "observatory's reference position at the observation time to \"see\" the celestial\n",
    "position.  Expressing the observed direction as an observed hour angle, `hob`,\n",
    "and observed declination, `dob`, allows for computing UVW from XYZ by two\n",
    "single-axis rotations and a permutation of the axes:\n",
    "\n",
    "1. Rotate the XYZ frame anticlockwise around the Z axis by `(longitude-hob)`,\n",
    "   producing a (X', U, Z) frame.\n",
    "2. Rotate that frame anticlockwise around the U\n",
    "   axis by `-dob`, producing a (W,\n",
    "   U, V) frame.\n",
    "3. Permute WUV to UVW.\n",
    "\n",
    "This approach has a \"ground truth\" appeal because the computed `W` axis points\n",
    "in the direction from which the radio wavefront from the phase center appears to\n",
    "emanate as it passes through the array.  The `W` component of the\n",
    "topocentric-computed UVW baseline vector therefore is the geometric distance\n",
    "that the wavefront travels from one antenna of a baseline to the other.\n",
    "\n",
    "Unfortunately, the `U` and `V` components resulting from this approach have a\n",
    "few properties that limit their functionality.  The celestial location pointed\n",
    "to by `W` is nominally in the Celestial Intermediate Reference System (CIRS),\n",
    "i.e.  after precession and nutation have been applied.  This means the `V`\n",
    "component nominally points toward the celestial intermediate pole, which varies\n",
    "over time, rather than a time invariant pole.  Likewise, `U` is similarly offset\n",
    "from a time invariant \"east\".  This means that maps made using the\n",
    "topocentric-computed UVWs from observations on different dates would be slightly\n",
    "rotated relative to each other.\n",
    "\n",
    "In theory, the topocentric-computed UVWs could be adjusted through a series of\n",
    "rotations to align with the ICRS frame, but diurnal aberration would also need\n",
    "to be accounted for in this exercise, making the process quite complicated.\n",
    "\n",
    "Another factor that we have been ignoring thus far is refraction, which is why\n",
    "we have been somewhat loose with the terms \"topocentric\", which does not include\n",
    "refraction, and \"observed\", which does include refraction.  Because refraction\n",
    "affects the travel path of the wavefront, including refraction in the\n",
    "calculation of \"observed direction\" (which \"observed\" implies anyway) leads to a\n",
    "`W` component that represents the geometric distance traveled by the wavefront\n",
    "between antennas of a baseline more accurately than without including\n",
    "refraction.  The difference in refraction from the \"top\" (highest elevation) of\n",
    "the primary beam to the \"bottom\" (lowest elevation) of the primary beam will\n",
    "distort the field being observed/imaged, but for the phase center itself the `U`\n",
    "and `V` components are not significantly affected by the \"bent\" path of the\n",
    "wavefront (right?)."
   ]
  },
  {
   "attachments": {},
   "cell_type": "markdown",
   "metadata": {},
   "source": [
    "### The geocentric approach\n",
    "\n",
    "Instead of transforming the phase center from the ICRS frame to the\n",
    "topocentric/observed frame and then rotating the antenna position frame to a\n",
    "UVW frame, it is possible to avoid the limitations mentioned in the previous\n",
    "section by using an approach that meets in the middle, i.e. the Geocentric\n",
    "Celestial Reference System (GCRS).  This approach involves the following steps:\n",
    "\n",
    "1. Transform the phase center from the ICRS frame to the GCRS frame:\n",
    "   1. Apply proper motion (generally ignored for extragalactic radio sources)\n",
    "   2. Apply parallax (generally ignored for extragalactic radio sources)\n",
    "   3. Apply light defection\n",
    "   4. Apply aberration (both annual and diurnal)\n",
    "2. Transform the antenna positions from the ITRF frame to the GCRS frame.  This\n",
    "   involves the transpose (i.e. inverse) of the *celestial-to-terrestrial*\n",
    "   rotation matrix such as the one returned by ERFA's `c2t06a` function.\n",
    "3. Rotate the GCRS frame such that the first axis points to the GCRS phase\n",
    "   center.  This produces a WUV frame.\n",
    "4. Permute the WUV frame to a UVW frame.\n",
    "\n",
    "This approach avoids the issues that `U` and `V` encountered in the\n",
    "topocentric/observed approach, but the `W` component does not so accurately\n",
    "represent the geometric distance that the wavefront travels from one antenna to\n",
    "another."
   ]
  },
  {
   "attachments": {},
   "cell_type": "markdown",
   "metadata": {},
   "source": [
    "### Which approach is better?\n",
    "\n",
    "Which approach is better depends on what you want to do.  For imaging, the `U`\n",
    "and `V` components are more important the the `W` component.  For delay\n",
    "calculations, the `W` component is more important than `U` or `V` components.\n",
    "This leads to the conclusion that the geocentric UVW approach is preferable for\n",
    "imaging purposes whereas the topocentric/observed UVW approach is preferable for\n",
    "delay purposes.  However, for delay purposes, computing just the `W` component\n",
    "of each baseline is more efficient than computing the entire UVW vector.  For\n",
    "this reason, when the entire UVW baseline vector is needed (e.g. for imaging or\n",
    "use in a UVH5 file) the geocentric approach is almost always preferable."
   ]
  },
  {
   "attachments": {},
   "cell_type": "markdown",
   "metadata": {},
   "source": [
    "## Comparing geocentric UVW implementations\n",
    "\n",
    "Comparing the three geocentric implementations, `GCRSUVW`, `CASAUVW`, and\n",
    "`PyUVW`, is a bit tricky due to the way each implementation handles the Earth\n",
    "orientation parameters `dut1`, `xp`, and `yp`.  While the `radec2uvws` function\n",
    "accepts these as keyword arguments, the `CASAUVW` and `PyUVW` versions ignore\n",
    "them since their underlying implementations do not support caller supplied\n",
    "values for these parameters.  Presumably they use internal mechanisms for\n",
    "downloading the EOP data from IERS (or elsewhere), but their documentation is a\n",
    "bit spares on this detail.\n",
    "\n",
    "We can use the `EarthOrientation` package to obtain EOP values that can be\n",
    "passed to `GCRSUVW.radec2uvws`:"
   ]
  },
  {
   "cell_type": "code",
   "execution_count": 15,
   "metadata": {},
   "outputs": [
    {
     "name": "stdout",
     "output_type": "stream",
     "text": [
      "dut1 = -0.0162067860450108\n",
      "xp = 0.19094269183334256\n",
      "yp = 0.1968674809638145\n"
     ]
    }
   ],
   "source": [
    "import EarthOrientation: getΔUT1, getxp, getyp\n",
    "dut1 = getΔUT1(o.jd)\n",
    "xp = getxp(o.jd)\n",
    "yp = getyp(o.jd)\n",
    "@show dut1 xp yp;"
   ]
  },
  {
   "attachments": {},
   "cell_type": "markdown",
   "metadata": {},
   "source": [
    "Here's what we get when using the EOP values:"
   ]
  },
  {
   "cell_type": "code",
   "execution_count": 16,
   "metadata": {},
   "outputs": [
    {
     "data": {
      "text/plain": [
       "3×78 Matrix{Float64}:\n",
       "   127.156  1375.15    1612.31    645.441  …  -131.273  152.954    284.227\n",
       "  2085.19    368.836    279.795   541.411      319.952  -96.4809  -416.433\n",
       " -1569.8    -999.813  -1061.35   -733.634     -160.966  -11.7979   149.168"
      ]
     },
     "metadata": {},
     "output_type": "display_data"
    }
   ],
   "source": [
    "gcrseopuvws = GCRSUVW.radec2uvws(o.ra, o.dec, o.jd, o.obslla, o.antxyz, o.bls; dut1, xp, yp)"
   ]
  },
  {
   "attachments": {},
   "cell_type": "markdown",
   "metadata": {},
   "source": [
    "Let's see what the average UVW difference is between these UVWs and the GCRS UVWs without EOP."
   ]
  },
  {
   "cell_type": "code",
   "execution_count": 17,
   "metadata": {},
   "outputs": [
    {
     "data": {
      "text/plain": [
       "0.0014392560422673247"
      ]
     },
     "metadata": {},
     "output_type": "display_data"
    }
   ],
   "source": [
    "avguvwdiff(gcrsuvws, gcrseopuvws)"
   ]
  },
  {
   "attachments": {},
   "cell_type": "markdown",
   "metadata": {},
   "source": [
    "Using EOP values resulted in an average UVW change of almost 1.5 mm compared to not using EOP values.  Let's see how these new values compare with the `CASAUVW` and `PyUVW` values we computed earlier."
   ]
  },
  {
   "cell_type": "code",
   "execution_count": 18,
   "metadata": {},
   "outputs": [
    {
     "data": {
      "text/plain": [
       "4-element Vector{Pair{String, Float64}}:\n",
       " \"CASAUVW vs GCRSUVW (no EOP)\" => 0.001562949981090979\n",
       " \"CASAUVW vs GCRSUVW (w/ EOP)\" => 0.0025850930471770753\n",
       "   \"PyUVW vs GCRSUVW (no EOP)\" => 0.001433844971866739\n",
       "   \"PyUVW vs GCRSUVW (w/ EOP)\" => 1.4718643270666432e-5"
      ]
     },
     "metadata": {},
     "output_type": "display_data"
    }
   ],
   "source": [
    "[\n",
    "    \"CASAUVW vs GCRSUVW (no EOP)\" => avguvwdiff(casauvws, gcrsuvws),\n",
    "    \"CASAUVW vs GCRSUVW (w/ EOP)\" => avguvwdiff(casauvws, gcrseopuvws),\n",
    "    \"PyUVW vs GCRSUVW (no EOP)\" => avguvwdiff(pyuvws, gcrsuvws),\n",
    "    \"PyUVW vs GCRSUVW (w/ EOP)\" => avguvwdiff(pyuvws, gcrseopuvws)\n",
    "]"
   ]
  },
  {
   "attachments": {},
   "cell_type": "markdown",
   "metadata": {},
   "source": [
    "Curiously, when using the EOP values from `EarthOrientation` the comparison with\n",
    "`CASAUVW` got worse (from 1.6 mm to 2.6 mm), but the comparison with `PyUVW` got\n",
    "better (from 1.4 mm to 15 µm).  At this point it gets a bit hard to figure out\n",
    "what exactly is causing these subtle differences since the inner workings of\n",
    "both the `CASAUVW` and `PyUVW` implementations are rather opaque.  Some\n",
    "possibilities are:\n",
    "\n",
    "* Different EOP values (affects the terrestrial-to-celestial transform)\n",
    "* Different calculations of observer's position/velocity (affects aberration)\n",
    "* Different calculations of light deflection (GCRSUVW only includes the sun)\n",
    "* Other differences in astronomical models\n",
    "* Order of floating point operations (more significant as the differences get\n",
    "  smaller)"
   ]
  },
  {
   "attachments": {},
   "cell_type": "markdown",
   "metadata": {},
   "source": [
    "## Fun with minimization\n",
    "\n",
    "It is interesting to note that practically all of the difference between the\n",
    "outputs of `GCRSUVW`, `CASAUVW`, and `PyUVW` can be eliminated by tweaking the\n",
    "EOP values used.  We can use Julia's `Optim` package, a multivariate\n",
    "optimization package, to find `dut1`, `xp`, and `yp` values that minimize the\n",
    "difference.  We just need to define a `residual` function for `Optim` to\n",
    "minimize."
   ]
  },
  {
   "cell_type": "code",
   "execution_count": 19,
   "metadata": {},
   "outputs": [],
   "source": [
    "using Optim\n",
    "\n",
    "# `x` will be a vector containing candidate [dut1, xp, yp] values\n",
    "# `o` will be a named tuple containing constant parameters for `radec2uvws`\n",
    "# `ref` will be the \"target\" UVW array\n",
    "function residual(x, o, ref)\n",
    "    dut1, xp, yp = x\n",
    "    gcrsuvw = GCRSUVW.radec2uvws(o.ra, o.dec, o.jd, o.obslla, o.antxyz, o.bls; dut1, xp, yp)\n",
    "    avguvwdiff(gcrsuvw, ref)\n",
    "end;"
   ]
  },
  {
   "attachments": {},
   "cell_type": "markdown",
   "metadata": {},
   "source": [
    "### Minimize residuals for `casauvws`"
   ]
  },
  {
   "cell_type": "code",
   "execution_count": 20,
   "metadata": {},
   "outputs": [
    {
     "data": {
      "text/plain": [
       " * Status: success\n",
       "\n",
       " * Candidate solution\n",
       "    Final objective value:     4.763398e-12\n",
       "\n",
       " * Found with\n",
       "    Algorithm:     Nelder-Mead\n",
       "\n",
       " * Convergence measures\n",
       "    √(Σ(yᵢ-ȳ)²)/n ≤ 1.0e-16\n",
       "\n",
       " * Work counters\n",
       "    Seconds run:   0  (vs limit Inf)\n",
       "    Iterations:    181\n",
       "    f(x) calls:    382\n"
      ]
     },
     "metadata": {},
     "output_type": "display_data"
    }
   ],
   "source": [
    "casaresults = optimize(x->residual(x, o, casauvws), [dut1, xp, yp], Optim.Options(g_tol=1e-16))"
   ]
  },
  {
   "attachments": {},
   "cell_type": "markdown",
   "metadata": {},
   "source": [
    "### Minimize residuals for `pyuvws`"
   ]
  },
  {
   "cell_type": "code",
   "execution_count": 21,
   "metadata": {},
   "outputs": [
    {
     "data": {
      "text/plain": [
       " * Status: success\n",
       "\n",
       " * Candidate solution\n",
       "    Final objective value:     3.104862e-13\n",
       "\n",
       " * Found with\n",
       "    Algorithm:     Nelder-Mead\n",
       "\n",
       " * Convergence measures\n",
       "    √(Σ(yᵢ-ȳ)²)/n ≤ 1.0e-16\n",
       "\n",
       " * Work counters\n",
       "    Seconds run:   0  (vs limit Inf)\n",
       "    Iterations:    174\n",
       "    f(x) calls:    361\n"
      ]
     },
     "metadata": {},
     "output_type": "display_data"
    }
   ],
   "source": [
    "pyresults=optimize(x->residual(x, o, pyuvws), [dut1, xp, yp], Optim.Options(g_tol=1e-16))"
   ]
  },
  {
   "attachments": {},
   "cell_type": "markdown",
   "metadata": {},
   "source": [
    "Both optimizations converged to tiny residuals (\"Final objective value\").\n",
    "\n",
    "Here are the `dut1`, `xp`, and `yp` values from `EarthOrientation` and the\n",
    "`CASAUVW` and `PyUVW` minimizations."
   ]
  },
  {
   "cell_type": "code",
   "execution_count": 22,
   "metadata": {},
   "outputs": [
    {
     "name": "stdout",
     "output_type": "stream",
     "text": [
      "dut1 = -0.0162067860450108\n",
      "dut1c = -0.008011131562502705\n",
      "dut1p = -0.016010515288670178\n",
      "\n",
      "xp = 0.19094269183334256\n",
      "xpc = -0.0013006328319094655\n",
      "xpp = 0.19230044654781023\n",
      "\n",
      "yp = 0.1968674809638145\n",
      "ypc = -0.4095296116832459\n",
      "ypp = 0.1955412449801455\n"
     ]
    }
   ],
   "source": [
    "dut1c, xpc, ypc = Optim.minimizer(casaresults)\n",
    "dut1p, xpp, ypp = Optim.minimizer(pyresults)\n",
    "\n",
    "@show dut1 dut1c dut1p; println()\n",
    "@show xp xpc xpp; println()\n",
    "@show yp ypc ypp;"
   ]
  },
  {
   "attachments": {},
   "cell_type": "markdown",
   "metadata": {},
   "source": [
    "The `PyUVW` minimization resulted in EOP values very close to the\n",
    "`EarthOrientation` values, well within the differences between various IERS EOP\n",
    "products.  This suggests that `PyUVW` and `GCRSUVW` are very similar\n",
    "implementations.\n",
    "\n",
    "Despite producing a very small residual, the `CASAUVW` minimization resulted in\n",
    "EOP values that are not so close to the `EarthOrientation` values, far outside\n",
    "the differences between various IERS EOP products.  This suggests that CASA's\n",
    "UVW calculation is somewhat different from those of the `GCRSUVW` and `PyUVW`\n",
    "implementations.\n",
    "\n",
    "Just for fun, let's take a look at the UVW differences when using these\n",
    "minimizing EOP values to see how well the minimization process worked."
   ]
  },
  {
   "cell_type": "code",
   "execution_count": 23,
   "metadata": {},
   "outputs": [
    {
     "data": {
      "text/plain": [
       "3×78 Matrix{Float64}:\n",
       " 7.95808e-12  4.54747e-12  5.45697e-12  …  5.68434e-14  -7.95808e-13\n",
       " 3.18323e-12  3.0127e-12   3.41061e-12     1.56319e-13  -1.13687e-13\n",
       " 7.04858e-12  9.89075e-12  1.15961e-11     6.50147e-13   5.40012e-13"
      ]
     },
     "metadata": {},
     "output_type": "display_data"
    }
   ],
   "source": [
    "casauvws - GCRSUVW.radec2uvws(o.ra, o.dec, o.jd, o.obslla, o.antxyz, o.bls; dut1=dut1c, xp=xpc, yp=ypc)"
   ]
  },
  {
   "cell_type": "code",
   "execution_count": 24,
   "metadata": {},
   "outputs": [
    {
     "data": {
      "text/plain": [
       "3×78 Matrix{Float64}:\n",
       " -1.13687e-13  -4.54747e-13  -2.27374e-13  …  0.0          -1.13687e-13\n",
       " -4.54747e-13   1.13687e-13   0.0             0.0           5.68434e-14\n",
       "  4.54747e-13   3.41061e-13   4.54747e-13     3.55271e-15   0.0"
      ]
     },
     "metadata": {},
     "output_type": "display_data"
    }
   ],
   "source": [
    "pyuvws - GCRSUVW.radec2uvws(o.ra, o.dec, o.jd, o.obslla, o.antxyz, o.bls; dut1=dut1p, xp=xpp, yp=ypp)"
   ]
  },
  {
   "attachments": {},
   "cell_type": "markdown",
   "metadata": {},
   "source": [
    "## Where's my observatory?\n",
    "\n",
    "One other detail that make comparing opaque implementations of UVW calculations\n",
    "tricky is that some implementations, such as both `CASA` and `astropy` have\n",
    "built in positions for known observatories that are inconsistent with each\n",
    "other!  Let's look at the ITRF coordinates for the VLA from `CASA`, `astropy`,\n",
    "and the example UVH5 file to see how different they are.\n",
    "\n",
    "The `CASAUVW` and `PyUVW` modules provide a `vla_location` function that return\n",
    "the built-in location of the VLA for `CASA` and `astropy`, resp.  We will use\n",
    "the `gd2gc` function from `ERFA` to convert `o.obslla` to ITRF using the WGS84\n",
    "ellipsoid."
   ]
  },
  {
   "cell_type": "code",
   "execution_count": 42,
   "metadata": {},
   "outputs": [
    {
     "data": {
      "text/plain": [
       "3-element Vector{Pair{String, Tuple{Vector{Float64}, Float64}}}:\n",
       " \"casa-astropy\" => ([-0.9630800811573863, 12.408692349679768, 0.7931435378268361], 12.471256782831462)\n",
       "    \"casa-uvh5\" => ([-42.829292317153886, 34.70993820298463, 13.481200681068003], 56.75271678295636)\n",
       " \"astrppy-uvh5\" => ([-41.8662122359965, 22.301245853304863, 12.688057143241167], 49.103076152815554)"
      ]
     },
     "metadata": {},
     "output_type": "display_data"
    }
   ],
   "source": [
    "import ERFA: gd2gc, WGS84\n",
    "casavla = CASAUVW.vla_location()\n",
    "pyvla = PyUVW.vla_location()\n",
    "uvh5vla = gd2gc(WGS84, deg2rad(o.obslla.lon), deg2rad(o.obslla.lat), o.obslla.alt)\n",
    "[\n",
    "    \"casa-astropy\" => (casavla-pyvla, hypot((casavla-pyvla)...)),\n",
    "    \"casa-uvh5\" => (casavla-uvh5vla, hypot((casavla-uvh5vla)...)),\n",
    "    \"astrppy-uvh5\" => (pyvla-uvh5vla, hypot((pyvla-uvh5vla)...))\n",
    "]"
   ]
  },
  {
   "attachments": {},
   "cell_type": "markdown",
   "metadata": {},
   "source": [
    "The `CASA` and `astropy` VLA locations are 12 meters apart.  The VLA location in\n",
    "the UVH5 file is ~50 meters away from the other two locations.  This is\n",
    "primarily because the latitude and longitude in the UVH5 file are consistent\n",
    "with sexagesimal representations that have only arcsecond precision,\n",
    "specifically latitude `+34:04:43` and longitude `-107:37:04`."
   ]
  },
  {
   "cell_type": "code",
   "execution_count": 32,
   "metadata": {},
   "outputs": [
    {
     "data": {
      "text/plain": [
       "true"
      ]
     },
     "metadata": {},
     "output_type": "display_data"
    }
   ],
   "source": [
    "(34 + (4 + 43/60)/60, -(107 + (37 + 4/60)/60)) == (o.obslla.lat, o.obslla.lon)"
   ]
  },
  {
   "attachments": {},
   "cell_type": "markdown",
   "metadata": {},
   "source": [
    "Using different observatory positions with the same `radec2uvws` function will\n",
    "show how much these various positions affect the resultant UVW values.  For we\n",
    "need a function to convert the ITRF locations to LLA format."
   ]
  },
  {
   "cell_type": "code",
   "execution_count": 45,
   "metadata": {},
   "outputs": [
    {
     "name": "stdout",
     "output_type": "stream",
     "text": [
      "o.obslla = (lat = 34.07861111111111, lon = -107.61777777777777, alt = 2124.0)\n",
      "casalla = (lat = 34.07881333755048, lon = -107.61833367504566, alt = 2114.890229039043)\n",
      "pylla = (lat = 34.07874916666667, lon = -107.61828305555552, alt = 2123.9999999997867)\n"
     ]
    }
   ],
   "source": [
    "import ERFA: gc2gd\n",
    "\n",
    "function gc2lla(xyz)\n",
    "    lon, lat, alt = gc2gd(WGS84, xyz)\n",
    "    (lat=rad2deg(lat), lon=rad2deg(lon), alt=alt)\n",
    "end\n",
    "\n",
    "casalla = gc2lla(casavla)\n",
    "pylla = gc2lla(pyvla)\n",
    "\n",
    "@show o.obslla casalla pylla;"
   ]
  },
  {
   "attachments": {},
   "cell_type": "markdown",
   "metadata": {},
   "source": [
    "The repeating digits at the end of `pylla`'s latitude and longitude suggest that\n",
    "`astropy`'s VLA location also came from a sexagesimal representation,\n",
    "specifically latitude `+34:04:43.497` and longitude `-107:37:05.819`, both to\n",
    "milliarcsecond precision.\n",
    "\n",
    "Let's see how much difference this makes in the resultant UVWs."
   ]
  },
  {
   "cell_type": "code",
   "execution_count": 39,
   "metadata": {},
   "outputs": [
    {
     "data": {
      "text/plain": [
       "2.7786519954576024e-8"
      ]
     },
     "metadata": {},
     "output_type": "display_data"
    }
   ],
   "source": [
    "avguvwdiff(CASAUVW.radec2uvws(o.ra, o.dec, o.jd, casalla, o.antxyz, o.bls),\n",
    "           CASAUVW.radec2uvws(o.ra, o.dec, o.jd,   pylla, o.antxyz, o.bls))"
   ]
  },
  {
   "cell_type": "code",
   "execution_count": 40,
   "metadata": {},
   "outputs": [
    {
     "data": {
      "text/plain": [
       "3.831621858235637e-9"
      ]
     },
     "metadata": {},
     "output_type": "display_data"
    }
   ],
   "source": [
    "avguvwdiff(CASAUVW.radec2uvws(o.ra, o.dec, o.jd,  casalla, o.antxyz, o.bls),\n",
    "           CASAUVW.radec2uvws(o.ra, o.dec, o.jd, o.obslla, o.antxyz, o.bls))"
   ]
  },
  {
   "cell_type": "code",
   "execution_count": 41,
   "metadata": {},
   "outputs": [
    {
     "data": {
      "text/plain": [
       "2.4622514578984983e-8"
      ]
     },
     "metadata": {},
     "output_type": "display_data"
    }
   ],
   "source": [
    "avguvwdiff(CASAUVW.radec2uvws(o.ra, o.dec, o.jd,    pylla, o.antxyz, o.bls),\n",
    "           CASAUVW.radec2uvws(o.ra, o.dec, o.jd, o.obslla, o.antxyz, o.bls))\n"
   ]
  },
  {
   "attachments": {},
   "cell_type": "markdown",
   "metadata": {},
   "source": [
    "The different VLA locations lead to UVW differences on the order of 10 nm.\n",
    "While this is a negligible difference, it is perhaps surprising that it's not\n",
    "zero (or closer to zero) since the reference location \"cancels out\" when\n",
    "subtracting baseline positions.  The different locations lead to different\n",
    "observatory positions and velocities, which lead to slightly different amounts\n",
    "of aberration (and to a lesser extent light deflection)."
   ]
  }
 ],
 "metadata": {
  "kernelspec": {
   "display_name": "Julia 1.8.4",
   "language": "julia",
   "name": "julia-1.8"
  },
  "language_info": {
   "file_extension": ".jl",
   "mimetype": "application/julia",
   "name": "julia",
   "version": "1.8.4"
  },
  "orig_nbformat": 4
 },
 "nbformat": 4,
 "nbformat_minor": 2
}
